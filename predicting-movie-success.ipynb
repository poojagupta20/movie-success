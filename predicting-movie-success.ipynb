{
 "cells": [
  {
   "attachments": {},
   "cell_type": "markdown",
   "metadata": {
    "id": "tITYjrdvyZVI"
   },
   "source": [
    "#Categorising the IMDB rating into 3 classes Hit,Avg,Flop\n",
    "Here I have dataset named movie_metadata in which the target variable is IMDB score and other variables that decide the IMDB score. Instead of just IMDB score,With the help of other parameters I want to predict whether a movie is Hit,Avg or Flop.\n",
    "\n",
    "\n",
    "\n",
    "|imdb_score | Classify |\n",
    "| --- | ---|\n",
    "|1-3 | Flop Movie|\n",
    "|3-6 | Average Movie|\n",
    "|6-10 | Hit Movie|\n"
   ]
  },
  {
   "attachments": {},
   "cell_type": "markdown",
   "metadata": {
    "id": "yMTKK9GM6cQ9"
   },
   "source": [
    "# 1 INTRODUCTION\n"
   ]
  },
  {
   "attachments": {},
   "cell_type": "markdown",
   "metadata": {
    "id": "GQ9myKeWyBdT"
   },
   "source": [
    "## 1.1 Background\n",
    "\n",
    "\n",
    "Success of a movie depends upon alot of factors like good directors or excellent actors or story plotline.However, famous directors and actors can always bring an expected box-office income but cannot guarantee a highly rated imdb score.\n",
    "\n"
   ]
  },
  {
   "attachments": {},
   "cell_type": "markdown",
   "metadata": {
    "id": "UveLsKUXyBqK"
   },
   "source": [
    "## 1.2 Describing Data\n",
    "\n",
    "The dataset contains 28 variables for 5043 movies, spanning across 100 years in 66 countries. There are 2399 unique director names, and thousands of actors/actresses. “imdb_score” is the response variable while the other 27 variables are possible predictors."
   ]
  },
  {
   "attachments": {},
   "cell_type": "markdown",
   "metadata": {
    "id": "zJ_UlIb8yBv3"
   },
   "source": [
    "|Variable Name |\tDescription|\n",
    "| --- | --- |\n",
    "|movie_title\t | Title of the Movie|\n",
    "|duration\t| Duration in minutes|\n",
    "|director_name\t| Name of the Director of the Movie|\n",
    "|director_facebook_likes |\tNumber of likes of the Director on his Facebook Page|\n",
    "|actor_1_name |\tPrimary actor starring in the movie|\n",
    "|actor_1_facebook_likes |\tNumber of likes of the Actor_1 on his/her Facebook Page|\n",
    "|actor_2_name |\tOther actor starring in the movie|\n",
    "|actor_2_facebook_likes\t| Number of likes of the Actor_2 on his/her Facebook Page|\n",
    "|actor_3_name |\tOther actor starring in the movie|\n",
    "|actor_3_facebook_likes |\tNumber of likes of the Actor_3 on his/her Facebook Page|\n",
    "|num_user_for_reviews |\tNumber of users who gave a review|\n",
    "|num_critic_for_reviews |\tNumber of critical reviews on imdb|\n",
    "|num_voted_users | \tNumber of people who voted for the movie|\n",
    "|cast_total_facebook_likes |\tTotal number of facebook likes of the entire cast of the movie|\n",
    "|movie_facebook_likes |\tNumber of Facebook likes in the movie page|\n",
    "|plot_keywords |\tKeywords describing the movie plot|\n",
    "|facenumber_in_poster |\tNumber of the actor who featured in the movie poster|\n",
    "|color |\tFilm colorization. ‘Black and White’ or ‘Color’|\n",
    "|genres |\tFilm categorization like ‘Animation’, ‘Comedy’, ‘Romance’, ‘Horror’, ‘Sci-Fi’, ‘Action’, ‘Family’|\n",
    "|title_year |\tThe year in which the movie is released (1916:2016)|\n",
    "|language |\tEnglish, Arabic, Chinese, French, German, Danish, Italian, Japanese etc|\n",
    "|country |\tCountry where the movie is produced|\n",
    "|content_rating |\tContent rating of the movie|\n",
    "|aspect_ratio |\tAspect ratio the movie was made in|\n",
    "|movie_imdb_link |\tIMDB link of the movie|\n",
    "|gross |\tGross earnings of the movie in Dollars|\n",
    "|budget |\tBudget of the movie in Dollars|\n",
    "|imdb_score |\tIMDB Score of the movie on IMDB|"
   ]
  },
  {
   "attachments": {},
   "cell_type": "markdown",
   "metadata": {
    "id": "zqUdPqTTqF5C"
   },
   "source": [
    "Lets see which features influence the target varible(IMDB Score)"
   ]
  },
  {
   "attachments": {},
   "cell_type": "markdown",
   "metadata": {
    "id": "_asnnbcm7Eff"
   },
   "source": [
    "# 2 DATA EXPLORATION"
   ]
  },
  {
   "attachments": {},
   "cell_type": "markdown",
   "metadata": {
    "id": "wswrtl4jPN6Y"
   },
   "source": [
    "## 2.1 Importing necessary Libraries\n"
   ]
  },
  {
   "cell_type": "code",
   "execution_count": null,
   "metadata": {
    "id": "0Pu9vNn_ayuz",
    "outputId": "ffc479bf-f88d-42dc-9a4a-bf72c826cc28"
   },
   "outputs": [],
   "source": [
    "#Importing necessary Libraries\n",
    "import numpy as np\n",
    "import pandas as pd\n",
    "import matplotlib.pyplot as plt \n",
    "import seaborn as sns"
   ]
  },
  {
   "cell_type": "code",
   "execution_count": null,
   "metadata": {
    "id": "Is7Ix5HJa9p_",
    "outputId": "9b5fab29-808c-4539-8594-f10479cf8516"
   },
   "outputs": [],
   "source": [
    "#Reading the dataset\n",
    "data=pd.read_csv('../input/imdb-5000-movie-dataset/movie_metadata.csv')\n",
    "data.head()"
   ]
  },
  {
   "attachments": {},
   "cell_type": "markdown",
   "metadata": {
    "id": "uront9NnLvii"
   },
   "source": [
    "## 2.2 Categorizing the target varible \n",
    "\n",
    "Here we are categorizing the target variable in such a way that IMDB score between 1 and 3 is FLOP , between 3 and 6 is AVG, between 6 and 10 is HIT.\n",
    "\n",
    "And we are using binning in pandas to acheive this.\n"
   ]
  },
  {
   "cell_type": "code",
   "execution_count": null,
   "metadata": {
    "id": "Cu6eK6NKbOQG"
   },
   "outputs": [],
   "source": [
    "#Categorising the target varible \n",
    "bins = [ 1, 3, 6, 10]\n",
    "labels = ['FLOP', 'AVG', 'HIT']\n",
    "data['imdb_binned'] = pd.cut(data['imdb_score'], bins=bins, labels=labels)"
   ]
  },
  {
   "attachments": {},
   "cell_type": "markdown",
   "metadata": {
    "id": "RZ8j4QKkgdrJ"
   },
   "source": [
    " Barplot of imbd_binned column"
   ]
  },
  {
   "cell_type": "code",
   "execution_count": null,
   "metadata": {
    "id": "00kv3hDogEik",
    "outputId": "2d5721e2-7049-41a0-fc10-3452f1f8a95d"
   },
   "outputs": [],
   "source": [
    "data.groupby(['imdb_binned']).size().plot(kind=\"bar\",fontsize=14)\n",
    "plt.xlabel('Categories')\n",
    "plt.ylabel('Number of Movies')\n",
    "plt.title('Categorization of Movies')"
   ]
  },
  {
   "attachments": {},
   "cell_type": "markdown",
   "metadata": {
    "id": "4Pu6SF-CLDz5"
   },
   "source": [
    "We can see a new column named imdb_binned correctly categorising the imdb score\n"
   ]
  },
  {
   "cell_type": "code",
   "execution_count": null,
   "metadata": {
    "id": "SbHOvcgBb-1d",
    "outputId": "bf032e7e-37b1-47d3-9e84-426810f445c8"
   },
   "outputs": [],
   "source": [
    "#Checking the new column\n",
    "data.head(5)"
   ]
  },
  {
   "attachments": {},
   "cell_type": "markdown",
   "metadata": {
    "id": "_DuDeTQ4UyPF"
   },
   "source": [
    "Our dataset contains 5043 samples(rows) and 28 variables(columns)"
   ]
  },
  {
   "cell_type": "code",
   "execution_count": null,
   "metadata": {
    "id": "AYupTKGYcHAU",
    "outputId": "b95627fc-2b0b-4b56-ad72-5e62838752f4"
   },
   "outputs": [],
   "source": [
    "#Shape of the dataset\n",
    "data.shape"
   ]
  },
  {
   "attachments": {},
   "cell_type": "markdown",
   "metadata": {},
   "source": [
    "## 2.3 Handling the Missing values\n",
    "\n",
    "Every datset have some missing values, lets find out in which cloumns they are?"
   ]
  },
  {
   "cell_type": "code",
   "execution_count": null,
   "metadata": {
    "id": "qV_9xy_ycXzB",
    "outputId": "1b9c8b4a-2959-440b-d048-18c9f60c4808"
   },
   "outputs": [],
   "source": [
    "#Total null values present in each column\n",
    "data.isnull().sum()"
   ]
  },
  {
   "attachments": {},
   "cell_type": "markdown",
   "metadata": {
    "id": "nIAtAwObWvwj"
   },
   "source": [
    "Dropping all the samples that having missing values\n"
   ]
  },
  {
   "cell_type": "code",
   "execution_count": null,
   "metadata": {
    "id": "oYHzP76_cd_s"
   },
   "outputs": [],
   "source": [
    "#Droping the samples that have missing values\n",
    "data.dropna(inplace=True)"
   ]
  },
  {
   "attachments": {},
   "cell_type": "markdown",
   "metadata": {
    "id": "UubAN0YoW-mK"
   },
   "source": [
    "Total samples remaining after dropping missing values\n"
   ]
  },
  {
   "cell_type": "code",
   "execution_count": null,
   "metadata": {
    "id": "d2_jHPwgcg5W",
    "outputId": "c5343e56-bc36-4652-efc2-4f7ccb52e670"
   },
   "outputs": [],
   "source": [
    "#Final shape of the data after Droping missing values\n",
    "data.shape"
   ]
  },
  {
   "cell_type": "code",
   "execution_count": null,
   "metadata": {
    "id": "lw1VJ07JcifK",
    "outputId": "f2b1bdd7-2bff-467b-cb47-31ec6a57b33e"
   },
   "outputs": [],
   "source": [
    "#List of variables in the datset\n",
    "data.columns"
   ]
  },
  {
   "cell_type": "code",
   "execution_count": null,
   "metadata": {
    "id": "eL09qqAD-PfW",
    "outputId": "8bffa724-4bad-4e4e-99a2-3b2044a328d0"
   },
   "outputs": [],
   "source": [
    "data.shape"
   ]
  },
  {
   "attachments": {},
   "cell_type": "markdown",
   "metadata": {},
   "source": [
    "Lets find out how the string variables are behaving"
   ]
  },
  {
   "cell_type": "code",
   "execution_count": null,
   "metadata": {
    "id": "mDhyXZ7PL2Z7",
    "outputId": "1addd9ad-49ca-448f-a0e6-f922eed82913"
   },
   "outputs": [],
   "source": [
    "#Describing the categorical data\n",
    "data.describe(include='object')"
   ]
  },
  {
   "attachments": {},
   "cell_type": "markdown",
   "metadata": {
    "id": "9UqaybAdz_c_"
   },
   "source": [
    "'movie_title','movie_imdb_link' columns are almost unique,so they doesn't contribute in predicting target variable"
   ]
  },
  {
   "cell_type": "code",
   "execution_count": null,
   "metadata": {
    "id": "adsg3H6Nz_3p"
   },
   "outputs": [],
   "source": [
    "#Dropping 2 columns\n",
    "data.drop(columns=['movie_title','movie_imdb_link'],inplace=True)"
   ]
  },
  {
   "attachments": {},
   "cell_type": "markdown",
   "metadata": {
    "id": "hc7v-_TmXdsL"
   },
   "source": [
    "## 2.4 Label Encoding\n",
    "\n",
    "All the categorical columns and the columns with text data are being Label Encodeded in this step."
   ]
  },
  {
   "cell_type": "code",
   "execution_count": null,
   "metadata": {
    "id": "Ymr1_JW0cih_"
   },
   "outputs": [],
   "source": [
    "#Label encoding the categorical columns\n",
    "from sklearn.preprocessing import LabelEncoder\n",
    "le = LabelEncoder()\n",
    "cat_list=['color', 'director_name', 'actor_2_name',\n",
    "        'genres', 'actor_1_name',\n",
    "        'actor_3_name',\n",
    "        'plot_keywords',\n",
    "        'language', 'country', 'content_rating',\n",
    "       'title_year', 'aspect_ratio']\n",
    "data[cat_list]=data[cat_list].apply(lambda x:le.fit_transform(x))"
   ]
  },
  {
   "cell_type": "code",
   "execution_count": null,
   "metadata": {
    "id": "sYkknNcEcinJ",
    "outputId": "b3bae2a8-2400-4970-98b9-fc3ecbb64cf6"
   },
   "outputs": [],
   "source": [
    "#A sample of data after label encoding\n",
    "data.head()"
   ]
  },
  {
   "attachments": {},
   "cell_type": "markdown",
   "metadata": {
    "id": "MXFyaJpRX_t6"
   },
   "source": [
    "## 2.5 Correlation\n",
    "\n",
    "To find out whether there is any relation between variables, in other terms multicollineariaty.\n",
    "\n"
   ]
  },
  {
   "cell_type": "code",
   "execution_count": null,
   "metadata": {
    "id": "ipvQqmWuci_P",
    "outputId": "f3abb1b3-890a-48a1-c2cd-31638f3ab65d"
   },
   "outputs": [],
   "source": [
    "#Finding Correlation between variables\n",
    "corr = data.corr()\n",
    "mask = np.zeros(corr.shape, dtype=bool)\n",
    "mask[np.triu_indices(len(mask))] = True\n",
    "plt.subplots(figsize=(20,15))\n",
    "sns.heatmap(corr, xticklabels=corr.columns, yticklabels=corr.columns,cmap='RdYlGn',annot=True,mask = mask)"
   ]
  },
  {
   "attachments": {},
   "cell_type": "markdown",
   "metadata": {
    "id": "CHV6DdhBZRiv"
   },
   "source": [
    "These variables that are correlated cause errors in the prediction, so removing them\n"
   ]
  },
  {
   "cell_type": "code",
   "execution_count": null,
   "metadata": {
    "id": "fVd68GNMkYoL"
   },
   "outputs": [],
   "source": [
    "#Removing few columns due to multicollinearity\n",
    "data.drop(columns=['cast_total_facebook_likes','num_critic_for_reviews'],inplace=True)"
   ]
  },
  {
   "attachments": {},
   "cell_type": "markdown",
   "metadata": {
    "id": "ek4QNCrm0Z58"
   },
   "source": [
    "Removing the column \"imdb_score\" since we have \"imdb_binned\n",
    "\n",
    "I am gonna train the model with imdb_binned not with imdb_score so dropping the column.\n"
   ]
  },
  {
   "cell_type": "code",
   "execution_count": null,
   "metadata": {
    "id": "SIxIcmAvzcPI"
   },
   "outputs": [],
   "source": [
    "#Removing the column \"imdb_score\" since we have \"imdb_binned\"\n",
    "data.drop(columns=['imdb_score'],inplace=True)"
   ]
  },
  {
   "cell_type": "code",
   "execution_count": null,
   "metadata": {
    "id": "-uZLoAnwcjJO",
    "outputId": "ce680e2a-4684-46cc-9bb6-f01071556461"
   },
   "outputs": [],
   "source": [
    "data.shape"
   ]
  },
  {
   "attachments": {},
   "cell_type": "markdown",
   "metadata": {
    "id": "r__-AMG08zKa"
   },
   "source": [
    "# 3 CLASSIFICATION MODEL BUILDING"
   ]
  },
  {
   "attachments": {},
   "cell_type": "markdown",
   "metadata": {
    "id": "5yRAmtM1aNVO"
   },
   "source": [
    "Splitting the data into X and y where X contains Indepentent variables and y contain Target/Dependent variable.\n"
   ]
  },
  {
   "cell_type": "code",
   "execution_count": null,
   "metadata": {
    "id": "g01XPGExcjNC",
    "outputId": "64142935-457a-4d15-8264-a694576c79ed"
   },
   "outputs": [],
   "source": [
    "#Independent Variables\n",
    "X = data.iloc[:, 0:23].values\n",
    "#Dependent/Target Variable\n",
    "y = data.iloc[:, 23].values\n",
    "y"
   ]
  },
  {
   "attachments": {},
   "cell_type": "markdown",
   "metadata": {
    "id": "TNlmQcB8aMrQ"
   },
   "source": [
    "## 3.1 Train Test Split\n",
    "\n",
    "We need data not only to train our model but also to test our model. So splitting the dataset into 70:30 (Train:Test) ratio.We have a predefined a function in Sklearn library called test_train_split, lets use that."
   ]
  },
  {
   "cell_type": "code",
   "execution_count": null,
   "metadata": {
    "id": "5tROd04FcjUN",
    "outputId": "64901b9e-ee26-42d1-962a-57757b31c1b2"
   },
   "outputs": [],
   "source": [
    "#Spliting the data into train and test\n",
    "from sklearn.model_selection import train_test_split\n",
    "X_train, X_test, y_train, y_test = train_test_split(X, y, test_size = 0.3, random_state = 0,stratify = y)\n",
    "print(X_train.shape)\n",
    "print(y_train.shape)"
   ]
  },
  {
   "attachments": {},
   "cell_type": "markdown",
   "metadata": {
    "id": "aHU4HSv-bYMT"
   },
   "source": [
    "## 3.2 Scaling\n",
    "\n",
    "Few variables will be in the range of Millions and some in Tens, lets bring all of them into same scale\n"
   ]
  },
  {
   "cell_type": "code",
   "execution_count": null,
   "metadata": {
    "id": "JRI6LfyLcjYU"
   },
   "outputs": [],
   "source": [
    "#Scaling the dependent variables\n",
    "from sklearn.preprocessing import StandardScaler\n",
    "sc = StandardScaler()\n",
    "X_train = sc.fit_transform(X_train)\n",
    "X_test = sc.transform(X_test)"
   ]
  },
  {
   "attachments": {},
   "cell_type": "markdown",
   "metadata": {
    "id": "RCF9IHoxb2wI"
   },
   "source": [
    "## 3.4 Feature Selection using RFECV\n",
    "\n"
   ]
  },
  {
   "attachments": {},
   "cell_type": "markdown",
   "metadata": {
    "id": "-LNox6E1Wpd1"
   },
   "source": [
    "Finding optimal features to use for Machine learning model training can sometimes be a difficult task to accomplish.There are just so many methods to choose from and here I am going with RFECV."
   ]
  },
  {
   "attachments": {},
   "cell_type": "markdown",
   "metadata": {
    "id": "M8_YyiO1Wqeq"
   },
   "source": [
    "Recursive Feature Elimination  with Cross Validation\n",
    "\n",
    "Recursive — involving doing or saying the same thing several times in order to produce a particular result or effect\n",
    "\n",
    "Feature — individual measurable property or characteristic of a phenomenon being observed — an  attribute in your dataset\n",
    "\n",
    "Cross-Validation — a technique for evaluating ML models by training several ML models on subsets of the available input data and evaluating them on the complementary subset of the data. Use cross-validation to detect overfitting, ie, failing to generalize a pattern."
   ]
  },
  {
   "attachments": {},
   "cell_type": "markdown",
   "metadata": {
    "id": "88lLv51QYp_q"
   },
   "source": [
    "You will need to declare two variables — X and y where first represents all the features, and the second represents the target variable. Then you’ll make an instance of the Machine learning algorithm (In this case RandomForests). In it, you can optionally pass a random state seed for reproducibility. Now you can create an instance of RFECV.\n",
    "\n",
    "\n"
   ]
  },
  {
   "cell_type": "code",
   "execution_count": null,
   "metadata": {
    "id": "qg_HTJDt--lS"
   },
   "outputs": [],
   "source": [
    "#Performing Recursive Feauture Elimation with Cross Validation\n",
    "#Using Random forest for RFE-CV and logloss as scoring\n",
    "from sklearn.feature_selection import RFECV\n",
    "from sklearn.ensemble import RandomForestClassifier\n",
    "from sklearn.metrics import log_loss\n",
    "clf_rf=RandomForestClassifier(random_state=0)\n",
    "rfecv=RFECV(estimator=clf_rf, step=1,cv=5,scoring='neg_log_loss')\n",
    "rfecv=rfecv.fit(X_train,y_train)"
   ]
  },
  {
   "cell_type": "code",
   "execution_count": null,
   "metadata": {
    "id": "ZLyUhZIi_HZa",
    "outputId": "7ea7fc8e-39fb-4c68-907a-548a6ea679fa"
   },
   "outputs": [],
   "source": [
    "#Optimal number of features\n",
    "X_train = pd.DataFrame(X_train)\n",
    "X_test = pd.DataFrame(X_test)\n",
    "print('Optimal number of features :', rfecv.n_features_)\n",
    "print('Best features :', X_train.columns[rfecv.support_])"
   ]
  },
  {
   "attachments": {},
   "cell_type": "markdown",
   "metadata": {
    "id": "RxFi3iSTPPmx"
   },
   "source": [
    "|Features Selected |\tFeatures Dropped|\n",
    "| --- | --- |\n",
    "|duration| color|\n",
    "|director_facebook_likes\t| director name|\n",
    "|actor_3_facebook_likes\t| actor_2_name|\n",
    "|actor_1_facebook_likes|\tactor_1_name   |\n",
    "|gross|\tfacenumber_in_poster|\n",
    "|genres |\tlanguage|\n",
    "|num_voted_users |country\t|\n",
    "|actor_3_name \t| content_rating|\n",
    "|actor_3_name |\taspect_ratio|\n",
    "|plot_keywords |\t|\n",
    "|num_user_for_reviews |\t |\n",
    "|budget| |\n",
    "|title_year | \t|\n",
    "|actor_2_facebook_likes |\t |\n",
    "|movie_facebook_likes |\t |\n"
   ]
  },
  {
   "cell_type": "code",
   "execution_count": null,
   "metadata": {
    "id": "URnMrDLz_KYs"
   },
   "outputs": [],
   "source": [
    "#Feauture Ranking\n",
    "clf_rf = clf_rf.fit(X_train,y_train)\n",
    "importances = clf_rf.feature_importances_\n",
    "\n",
    "std = np.std([tree.feature_importances_ for tree in clf_rf.estimators_],\n",
    "             axis=0)\n",
    "indices = np.argsort(importances)[::-1]\n"
   ]
  },
  {
   "cell_type": "code",
   "execution_count": null,
   "metadata": {
    "id": "w7ONzE3v_OVs",
    "outputId": "cd528cea-f107-4953-dd01-23eb053db637"
   },
   "outputs": [],
   "source": [
    "#Logloss vs Number of features\n",
    "import matplotlib.pyplot as plt\n",
    "plt.figure()\n",
    "plt.xlabel(\"Number of features selected\")\n",
    "plt.ylabel(\"Cross validation score of number of selected features\")\n",
    "plt.title(\"Log loss vs Number of fetures\")\n",
    "plt.plot(range(1, len(rfecv.grid_scores_) + 1), rfecv.grid_scores_)\n",
    "plt.show()"
   ]
  },
  {
   "cell_type": "code",
   "execution_count": null,
   "metadata": {
    "id": "K9mkDj8DAW0n"
   },
   "outputs": [],
   "source": [
    "#Selecting the Important Features\n",
    "X_opt = X_train.iloc[:,X_train.columns[rfecv.support_]]\n",
    "X_test = X_test.iloc[:,X_test.columns[rfecv.support_]]"
   ]
  },
  {
   "cell_type": "code",
   "execution_count": null,
   "metadata": {
    "id": "F16nSSZwRYW2",
    "outputId": "cf06324e-31b0-4b6e-afe7-236e270e03ef"
   },
   "outputs": [],
   "source": [
    "#Creating anew dataframe with column names and feature importance\n",
    "dset = pd.DataFrame()\n",
    "data1 = data\n",
    "data1.drop(columns=['imdb_binned'],inplace=True)\n",
    "dset['attr'] = data1.columns\n",
    "\n",
    "dset['importance'] = clf_rf.feature_importances_\n",
    "#Sorting with importance column\n",
    "dset = dset.sort_values(by='importance', ascending=True)\n",
    "\n",
    "#Barplot indicating Feature Importance\n",
    "plt.figure(figsize=(16, 14))\n",
    "plt.barh(y=dset['attr'], width=dset['importance'], color='#1976D2')\n",
    "plt.title('RFECV - Feature Importances', fontsize=20, fontweight='bold', pad=20)\n",
    "plt.xlabel('Importance', fontsize=14, labelpad=20)\n",
    "plt.show()"
   ]
  },
  {
   "attachments": {},
   "cell_type": "markdown",
   "metadata": {
    "id": "eBot54tQHbAK"
   },
   "source": [
    "## 3.4 Random Forest\n",
    "\n",
    "Random forests is an ensemble learning method for classification that operate by constructing a multitude of decision trees at training time and outputting the class that is the mode of the classes (classification)  of the individual trees\n",
    "\n",
    "*n_estimators* is a parameter that specify number of trees in the forest.\n",
    "\n",
    "*criterion* is to specify what function to measure the quality of a split. “entropy” is for the information gain. "
   ]
  },
  {
   "cell_type": "code",
   "execution_count": null,
   "metadata": {
    "id": "JQ_doeT7hj-Z",
    "outputId": "52cf55a4-ed73-436a-bb75-066af0cbb2f1"
   },
   "outputs": [],
   "source": [
    "#Training the Random Forest Classifer on Train data\n",
    "from sklearn.ensemble import RandomForestClassifier\n",
    "classifier = RandomForestClassifier(n_estimators = 100, criterion = 'entropy', random_state = 0)\n",
    "classifier.fit(X_opt, y_train)\n"
   ]
  },
  {
   "attachments": {},
   "cell_type": "markdown",
   "metadata": {
    "id": "ncb7wwA2SXkH"
   },
   "source": [
    "Predicting the test data"
   ]
  },
  {
   "cell_type": "code",
   "execution_count": null,
   "metadata": {
    "id": "bv6u4-lXcjFw"
   },
   "outputs": [],
   "source": [
    "#Predicting the target variable\n",
    "y_pred = classifier.predict(X_test)"
   ]
  },
  {
   "attachments": {},
   "cell_type": "markdown",
   "metadata": {
    "id": "Rg7keUykedDe"
   },
   "source": [
    "## 3.5 Confusion Matrix\n",
    "\n",
    "Confusion matrix gives a clear view of ground truth and prediction."
   ]
  },
  {
   "cell_type": "code",
   "execution_count": null,
   "metadata": {
    "id": "2Cp-RASLcjDA",
    "outputId": "0a349db5-fac9-4766-952f-bbfcd4875a54"
   },
   "outputs": [],
   "source": [
    "#Confusion Matrix\n",
    "from sklearn.metrics import confusion_matrix \n",
    "cm = confusion_matrix(y_test,y_pred)\n",
    "cm"
   ]
  },
  {
   "attachments": {},
   "cell_type": "markdown",
   "metadata": {
    "id": "1hr8f0sMfILX"
   },
   "source": [
    "## 3.6 Classification Report"
   ]
  },
  {
   "cell_type": "code",
   "execution_count": null,
   "metadata": {
    "id": "fYbsAHZsci9d",
    "outputId": "258a9a00-4946-49cb-d636-5ae1cef59561"
   },
   "outputs": [],
   "source": [
    "#Classification Report\n",
    "from sklearn.metrics import classification_report\n",
    "cr = classification_report(y_test,y_pred)\n",
    "print(cr)"
   ]
  }
 ],
 "metadata": {
  "kernelspec": {
   "display_name": "Python 3 (ipykernel)",
   "language": "python",
   "name": "python3"
  },
  "language_info": {
   "codemirror_mode": {
    "name": "ipython",
    "version": 3
   },
   "file_extension": ".py",
   "mimetype": "text/x-python",
   "name": "python",
   "nbconvert_exporter": "python",
   "pygments_lexer": "ipython3",
   "version": "3.9.7"
  }
 },
 "nbformat": 4,
 "nbformat_minor": 4
}
